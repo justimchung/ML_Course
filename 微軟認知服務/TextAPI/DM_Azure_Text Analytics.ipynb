{
 "cells": [
  {
   "cell_type": "markdown",
   "metadata": {},
   "source": [
    "# 文字情感分析\n",
    "\n",
    "在這個範例中，我們使用 Azure 的 Text Analytics API 來完成文字情感分析的功能。  \n",
    "給定一段文字，我們可以由文字分析的功能中，分析出這段文字中所包含的情感是屬於「正向」(positive)，  \n",
    "「中立」(neutral)，或是「負向」(negative)。\n",
    "\n",
    "文字情感分析有許多的用途，例如旅館可以用這個功能分析使用者的回饋，過濾出負向的意見，並針對負向意見做特別的處理。  \n",
    "又例如基金公司可以分析最近新聞，或是社群網站文章中所透露的情感，藉此預測未來股市的走向。\n",
    "\n",
    "參考資料:  \n",
    "- [文字分析API的說明](https://azure.microsoft.com/zh-tw/services/cognitive-services/text-analytics/)\n",
    "- [文字分析API的簡介](https://docs.microsoft.com/zh-tw/azure/cognitive-services/text-analytics/overview)\n",
    "- [文字分析API文件 (英文)](https://westus.dev.cognitive.microsoft.com/docs/services/TextAnalytics-v3-0-Preview-1/operations/Sentiment)\n",
    "- [文字分析API範例](https://github.com/MicrosoftDocs/azure-docs.zh-tw/blob/master/articles/cognitive-services/text-analytics/quickstarts/python.md)\n",
    "- [文字分析API所支援的語言](https://docs.microsoft.com/en-us/azure/cognitive-services/text-analytics/language-support)\n",
    "\n",
    "\n"
   ]
  },
  {
   "cell_type": "code",
   "execution_count": 6,
   "metadata": {},
   "outputs": [],
   "source": [
    "import requests\n",
    "import json"
   ]
  },
  {
   "cell_type": "markdown",
   "metadata": {},
   "source": [
    "## 新增服務\n",
    "\n",
    "在 Azure 的入口網站中，新增 Text Analystics 的服務 (見下圖)。並完成相關設定。\n",
    "\n",
    "![](textapi1.png)\n",
    "\n",
    "進入 Text Analystics 服務的設定頁面，點選金鑰與端點 (下圖 (1))，複製金鑰 (下圖(2))，  \n",
    "以及端點 (下圖(3))，並貼到底下的程式碼中。\n",
    "\n",
    "![](textapi2.png)"
   ]
  },
  {
   "cell_type": "code",
   "execution_count": 7,
   "metadata": {},
   "outputs": [],
   "source": [
    "#將上面的金鑰貼入單引號中\n",
    "subscription_key = ''\n",
    "#端點後要加上 /text/analytics/v3.0-preview.1/sentiment 的字串，代表我們要使用情感分析的雲端服務\n",
    "text_sentiment_api_url = 'https://<端點>/text/analytics/v3.0-preview.1/sentiment'"
   ]
  },
  {
   "cell_type": "code",
   "execution_count": 16,
   "metadata": {},
   "outputs": [],
   "source": [
    "#在檔頭填入金鑰\n",
    "headers = {'Ocp-Apim-Subscription-Key': subscription_key}\n",
    "\n"
   ]
  },
  {
   "cell_type": "markdown",
   "metadata": {},
   "source": [
    "底下我們使用 [hotels.com](https://tw.hotels.com/) 上面，顧客對旅館的評論的文章，來做為分析的對象。  \n",
    "\n",
    "連上 hotels.com，並隨便選一間旅館。  \n",
    "\n",
    "![](textapi3.png)\n",
    "\n",
    "在旅館的首頁的右方，點選「評論」的超連結。  \n",
    "\n",
    "![](textapi4.png)\n",
    "\n",
    "隨便複製兩條顧客意見，並貼到下方的程式碼中。  \n",
    "\n",
    "![](textapi5.png)"
   ]
  },
  {
   "cell_type": "code",
   "execution_count": 17,
   "metadata": {},
   "outputs": [
    {
     "output_type": "stream",
     "name": "stdout",
     "text": "{'documents': [{'language': 'zh-hant', 'id': '1', 'text': '隔音較差，睡眠較淺的人容易被隔壁或走廊的聲音吵醒，也會聽到附近浴室傳出來的聲響。'}, {'language': 'zh-hant', 'id': '2', 'text': '這次入住很特別 是自助辦理入房 在櫃檯停了一下時間有飯店人員協助操作 但訂房時有寫需求希望可以安排高樓層的房間 卻只安排在3樓 不是很好 但房間滿舒適的 熱水很熱 水柱很強 吹風機雖然小但是風很大 而且隔音也還算不錯。'}]}\n"
    }
   ],
   "source": [
    "body = {\"documents\": []}\n",
    "#底下的程式碼中，language要設為 zh-hant，這個設定是告訴微軟，我們的語言是繁體中文。\n",
    "#text的部分則是使用者的意見。\n",
    "body['documents'].append(\n",
    "    {\n",
    "        'language': 'zh-hant',\n",
    "        'id':'1',\n",
    "        'text':'隔音較差，睡眠較淺的人容易被隔壁或走廊的聲音吵醒，也會聽到附近浴室傳出來的聲響。'\n",
    "    }\n",
    ")\n",
    "body['documents'].append(\n",
    "    {\n",
    "        'language': 'zh-hant',\n",
    "        'id':'2',\n",
    "        'text':'這次入住很特別 是自助辦理入房 在櫃檯停了一下時間有飯店人員協助操作 但訂房時有寫需求希望可以安排高樓層的房間 卻只安排在3樓 不是很好 但房間滿舒適的 熱水很熱 水柱很強 吹風機雖然小但是風很大 而且隔音也還算不錯。'\n",
    "    }\n",
    ")\n",
    "\n",
    "print(body)\n"
   ]
  },
  {
   "cell_type": "markdown",
   "metadata": {},
   "source": [
    "呼叫雲端服務，並取得回傳的結果。"
   ]
  },
  {
   "cell_type": "code",
   "execution_count": 18,
   "metadata": {},
   "outputs": [
    {
     "output_type": "stream",
     "name": "stdout",
     "text": "{\"documents\": [{\"id\": \"1\", \"sentiment\": \"negative\", \"documentScores\": {\"positive\": 0.37, \"neutral\": 0.03, \"negative\": 0.6}, \"sentences\": [{\"sentiment\": \"negative\", \"sentenceScores\": {\"positive\": 0.37, \"neutral\": 0.03, \"negative\": 0.6}, \"offset\": 0, \"length\": 40}]}, {\"id\": \"2\", \"sentiment\": \"positive\", \"documentScores\": {\"positive\": 0.91, \"neutral\": 0.01, \"negative\": 0.08}, \"sentences\": [{\"sentiment\": \"positive\", \"sentenceScores\": {\"positive\": 0.91, \"neutral\": 0.01, \"negative\": 0.08}, \"offset\": 0, \"length\": 109}]}], \"errors\": [], \"modelVersion\": \"2020-04-01\"}\n"
    }
   ],
   "source": [
    "# json 的部分，就是上一個格子中我們填入的意見\n",
    "response = requests.post(text_sentiment_api_url, headers=headers, json=body)\n",
    "res = response.json()\n",
    "print(json.dumps(res))"
   ]
  },
  {
   "cell_type": "code",
   "execution_count": 11,
   "metadata": {},
   "outputs": [
    {
     "output_type": "stream",
     "name": "stdout",
     "text": "3\n"
    }
   ],
   "source": [
    "# len(res) 可以取得共有幾筆資料回傳。在這個例子中，是三筆\n",
    "print(len(res))"
   ]
  },
  {
   "cell_type": "markdown",
   "metadata": {},
   "source": [
    "底下的程式碼中，逐一地把每一份回傳的情感分析中所代表的情感都印出來。"
   ]
  },
  {
   "cell_type": "code",
   "execution_count": 12,
   "metadata": {},
   "outputs": [
    {
     "output_type": "stream",
     "name": "stdout",
     "text": "有 2 份回應\n文章 id: 1\n情感 :negative\n文章 id: 2\n情感 :positive\n"
    }
   ],
   "source": [
    "docs = res['documents']\n",
    "print(f'有 {len(docs)} 份回應')\n",
    "for doc in docs:\n",
    "    print(f'文章 id: {doc[\"id\"]}')\n",
    "    print(f'情感 :{doc[\"sentiment\"]}')\n"
   ]
  },
  {
   "cell_type": "code",
   "execution_count": null,
   "metadata": {},
   "outputs": [],
   "source": []
  }
 ],
 "metadata": {
  "language_info": {
   "codemirror_mode": {
    "name": "ipython",
    "version": 3
   },
   "file_extension": ".py",
   "mimetype": "text/x-python",
   "name": "python",
   "nbconvert_exporter": "python",
   "pygments_lexer": "ipython3",
   "version": "3.7.6-final"
  },
  "orig_nbformat": 2,
  "kernelspec": {
   "name": "python3",
   "display_name": "Python 3"
  }
 },
 "nbformat": 4,
 "nbformat_minor": 2
}